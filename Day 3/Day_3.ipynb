{
  "nbformat": 4,
  "nbformat_minor": 0,
  "metadata": {
    "colab": {
      "provenance": []
    },
    "kernelspec": {
      "name": "python3",
      "display_name": "Python 3"
    },
    "language_info": {
      "name": "python"
    }
  },
  "cells": [
    {
      "cell_type": "markdown",
      "source": [
        "Day 2 Recap:\n",
        "\n",
        "1. Loops: game\n",
        "2. Data Structures: game\n",
        "3. File handling\n",
        "4. Images, Audio"
      ],
      "metadata": {
        "id": "-Jb0pagyWDDz"
      }
    },
    {
      "cell_type": "markdown",
      "source": [
        "## Python Arrays:\n",
        "\n",
        "Python arrays are data structures that store elements of same data type.\n",
        "\n",
        "Differences between python arrays and list:\n",
        "1. Arrays are homogeneous, lists are heterogeneous\n",
        "2. Arrays are for specific purpose, lists are for general-purpose.\n",
        "3. Arrays are more efficient for numeric computation."
      ],
      "metadata": {
        "id": "_Jjnl3nQfITz"
      }
    },
    {
      "cell_type": "code",
      "source": [
        "import array\n",
        "\n",
        "# Creating an array of integers\n",
        "arr = array.array('i', [1, 2, 3, 4, 5])\n",
        "print(arr)\n"
      ],
      "metadata": {
        "colab": {
          "base_uri": "https://localhost:8080/"
        },
        "id": "BEzgQsFDggwx",
        "outputId": "7f98bb60-2a3e-4629-c1d6-1794fcb3d383"
      },
      "execution_count": null,
      "outputs": [
        {
          "output_type": "stream",
          "name": "stdout",
          "text": [
            "array('i', [1, 2, 3, 4, 5])\n"
          ]
        }
      ]
    },
    {
      "cell_type": "markdown",
      "source": [
        "# Libraries:\n",
        "\n",
        "A reusable collection of functions, classes, methods that help developers avoid reinventing the wheel.\n",
        "\n",
        "**A package meanwhile is a way to structure Python's module namespace by organizing multipple related modules into directories. It includes an `__init__.py` file, which indicates the directory is a package.**\n",
        "\n",
        "Example: Numpy is both a library and a package. **Why?**\n",
        "\n",
        "- Library: Offers many functionalities (numerical operations).\n",
        "- Package: An organized structure of modules that work together for a functionality."
      ],
      "metadata": {
        "id": "hPckix2DbMwa"
      }
    },
    {
      "cell_type": "markdown",
      "source": [
        "## Numpy Library:\n",
        "\n",
        "- Specifically designed for numerical computations.\n",
        "\n",
        "\n",
        "[Click on the following link for detailed dive in Numpy]"
      ],
      "metadata": {
        "id": "Igp64iFJgWD2"
      }
    },
    {
      "cell_type": "markdown",
      "source": [
        "Numpy: https://colab.research.google.com/drive/1U6Lh45LUgf3-7J7ZJUdlUAPoqLcoLOHK"
      ],
      "metadata": {
        "id": "UvwielScNc9N"
      }
    },
    {
      "cell_type": "markdown",
      "source": [
        "## Virtual Environment:\n",
        "\n",
        "During complex software projects, you often are working with multiple files, packages and dependencies. If you don't isolate your Python development environment for projects, all sorts of dependency conflict arise.\n",
        "\n",
        "For example, Project A contains version 2.1 of package x (such as numpy), and project B uses version 3.0 of package x, when you switch between these projects on your local machine, all sorts of error occurs. These is a common scenario, and to avoid this, we isolate the python environments. Python interpreter, libraries and scripts installed into one environment doesn't interfere with those of another environment.\n"
      ],
      "metadata": {
        "id": "xyWOtXBLVnkt"
      }
    },
    {
      "cell_type": "markdown",
      "source": [
        "#### Steps (Linux/MacOS):\n",
        "\n",
        "1. `pip install virtualenv`\n",
        "2. Creation: `python -m venv name`\n",
        "2. Activation: `source name/bin/activate`\n",
        "4. Deactivation: `deactivate`"
      ],
      "metadata": {
        "id": "5qLINkbWZzSy"
      }
    },
    {
      "cell_type": "markdown",
      "source": [
        "### Steps (Windows):\n",
        "1. Installation: `pip install virtualenv'\n",
        "2. Creation: `python -m venv name`\n",
        "3. Activation: `name\\Scripts\\activate`\n",
        "4. Deactivation: deactivate"
      ],
      "metadata": {
        "id": "gZYuA0XBaW5z"
      }
    },
    {
      "cell_type": "markdown",
      "source": [
        "## Requirements:\n",
        "\n",
        "Its much easier to list all the required packages into a `.txt` file.\n",
        "\n",
        "1. Installing dependencies from \"requirements.txt\": This will install all the listed requirements with their versions at once.\n",
        "\n",
        "  `pip install -r requirements.txt`\n",
        "\n",
        "2. Freezing dependencies into \"requirements.txt\": This will create requirements.txt file containing all installed packages with their versions.\n",
        "\n",
        "  `pip freeze > requirements.txt`"
      ],
      "metadata": {
        "id": "NSY_-MxWbWTF"
      }
    },
    {
      "cell_type": "code",
      "source": [],
      "metadata": {
        "id": "QGlY_i85bYg7"
      },
      "execution_count": null,
      "outputs": []
    }
  ]
}