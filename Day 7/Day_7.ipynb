{
  "nbformat": 4,
  "nbformat_minor": 0,
  "metadata": {
    "colab": {
      "provenance": []
    },
    "kernelspec": {
      "name": "python3",
      "display_name": "Python 3"
    },
    "language_info": {
      "name": "python"
    }
  },
  "cells": [
    {
      "cell_type": "markdown",
      "source": [
        "##Background:\n",
        "\n",
        "Why use Class?"
      ],
      "metadata": {
        "id": "SM3Ijd54MXF1"
      }
    },
    {
      "cell_type": "markdown",
      "source": [
        "### Using tuple"
      ],
      "metadata": {
        "id": "yPMu0drsU214"
      }
    },
    {
      "cell_type": "code",
      "source": [
        "def get_info_tup():\n",
        "  name = input(\"Name: \")\n",
        "  roll = input(\"Roll: \")\n",
        "  return name, roll"
      ],
      "metadata": {
        "id": "Hq2afTHDUL7l"
      },
      "execution_count": null,
      "outputs": []
    },
    {
      "cell_type": "code",
      "source": [
        "get_info_tup()"
      ],
      "metadata": {
        "colab": {
          "base_uri": "https://localhost:8080/"
        },
        "collapsed": true,
        "id": "oiNb-73vUTyE",
        "outputId": "e5f605ac-cb48-4271-f824-2389ad214fbe"
      },
      "execution_count": null,
      "outputs": [
        {
          "name": "stdout",
          "output_type": "stream",
          "text": [
            "Name: psp\n",
            "Roll: 10\n"
          ]
        },
        {
          "output_type": "execute_result",
          "data": {
            "text/plain": [
              "('psp', '10')"
            ]
          },
          "metadata": {},
          "execution_count": 6
        }
      ]
    },
    {
      "cell_type": "markdown",
      "source": [
        "### Using dictionary"
      ],
      "metadata": {
        "id": "pUN0cxkfUJYt"
      }
    },
    {
      "cell_type": "code",
      "execution_count": null,
      "metadata": {
        "id": "pdvb4CtGKpxL"
      },
      "outputs": [],
      "source": [
        "def get_info_dict():\n",
        "  name = input(\"Name: \")\n",
        "  roll = input(\"Roll: \")\n",
        "  return {\"Name\": name, \"Roll_no\": roll}"
      ]
    },
    {
      "cell_type": "code",
      "source": [
        "get_info_dict()"
      ],
      "metadata": {
        "colab": {
          "base_uri": "https://localhost:8080/"
        },
        "id": "kEBm-enx2siT",
        "outputId": "7a96ea90-a1c3-4d4e-f286-93c14b8dcd1d"
      },
      "execution_count": null,
      "outputs": [
        {
          "name": "stdout",
          "output_type": "stream",
          "text": [
            "Name: psp\n",
            "Roll: 10\n"
          ]
        },
        {
          "output_type": "execute_result",
          "data": {
            "text/plain": [
              "{'Name': 'psp', 'Roll_no': '10'}"
            ]
          },
          "metadata": {},
          "execution_count": 14
        }
      ]
    },
    {
      "cell_type": "markdown",
      "source": [
        "What if we can create our own data-types? (Not just tuple, dictionaries?)\n",
        "\n",
        "Inside class, we can design the types of data exactly what we want. (Classes allow to invent our own data-types)"
      ],
      "metadata": {
        "id": "bfgjP0CsUcyU"
      }
    },
    {
      "cell_type": "markdown",
      "source": [
        "# Class:\n",
        "\n",
        "* Classes are the blueprint for creating objects.\n",
        "\n",
        "* Attributes are variables that store information about an object.\n",
        "  - Defined using `__init__` method.\n",
        "\n",
        "* Methods are functions defined inside a class.\n",
        "  - operates on attributes of class (not other variables)\n",
        "\n",
        "Lets learn how to define classes, and how to instantiate the object from the class."
      ],
      "metadata": {
        "id": "0KFuH4pUWyAv"
      }
    },
    {
      "cell_type": "markdown",
      "source": [
        "### How?\n",
        "\n",
        "* Class name is defined as `class [Classname]`\n",
        "\n",
        "* Constructor:\n",
        "  - runs automatically when object is created.\n",
        "  - specify all variables as argument.\n",
        "  - assign all variables as attributes using `self`\n",
        "\n",
        "* Method:\n",
        "  - just like a normal function, use 'def'\n",
        "  - Since methods operate on attributes, specify `self` in the argument.\n",
        "\n",
        "* Object instantiation:\n",
        "  - object = Class(variables/attributes)\n",
        "\n",
        "* Calling methods.attributes of the class:\n",
        "  - object.attribute\n",
        "  - object.method()"
      ],
      "metadata": {
        "id": "MWp7LPxjZPNA"
      }
    },
    {
      "cell_type": "code",
      "source": [
        "class Student:\n",
        "\n",
        "  def __init__(self, name, age, grade):\n",
        "    self.name = name\n",
        "    self.age = age\n",
        "    self.grade = grade\n",
        "\n",
        "\n",
        "  def introduction(self):\n",
        "    print(f\"Hello, I am {self.name}. I am {self.age} years old. I got {self.grade} in my school\")"
      ],
      "metadata": {
        "id": "5vDSu2I2YH3o"
      },
      "execution_count": null,
      "outputs": []
    },
    {
      "cell_type": "code",
      "source": [
        "s1 = Student(\"Alice\", 12, \"A\")    #instantiation"
      ],
      "metadata": {
        "id": "COyW9TvKbNcN"
      },
      "execution_count": null,
      "outputs": []
    },
    {
      "cell_type": "code",
      "source": [
        "s1.name                 # attribute"
      ],
      "metadata": {
        "colab": {
          "base_uri": "https://localhost:8080/",
          "height": 35
        },
        "id": "XHDYz0zbbb3t",
        "outputId": "c3d377f0-bca5-4bdc-82c6-0735319fdbc2"
      },
      "execution_count": null,
      "outputs": [
        {
          "output_type": "execute_result",
          "data": {
            "text/plain": [
              "'Alice'"
            ],
            "application/vnd.google.colaboratory.intrinsic+json": {
              "type": "string"
            }
          },
          "metadata": {},
          "execution_count": 21
        }
      ]
    },
    {
      "cell_type": "code",
      "source": [
        "s1.introduction()         # method"
      ],
      "metadata": {
        "colab": {
          "base_uri": "https://localhost:8080/"
        },
        "id": "VEo_yq21beRh",
        "outputId": "a57936df-f6ce-44e8-e2df-2375385a71ca"
      },
      "execution_count": null,
      "outputs": [
        {
          "output_type": "stream",
          "name": "stdout",
          "text": [
            "Hello, I am Alice. I am 12 years old. I got A in my school\n"
          ]
        }
      ]
    },
    {
      "cell_type": "markdown",
      "source": [
        "## Assignment 1:\n",
        "\n",
        "Instantiate another object, with different datatype for grade and age.\n",
        "Do they work?"
      ],
      "metadata": {
        "id": "Cl4R_4wPbg7W"
      }
    },
    {
      "cell_type": "code",
      "source": [
        "## Write code here for assignment 1:\n",
        "\n"
      ],
      "metadata": {
        "id": "J8YYyQR_b6IW"
      },
      "execution_count": null,
      "outputs": []
    },
    {
      "cell_type": "code",
      "source": [],
      "metadata": {
        "colab": {
          "base_uri": "https://localhost:8080/"
        },
        "id": "bCpCzyvcAaOb",
        "outputId": "215bcb5b-4aa3-4a4f-e6ee-0adeefbc14ee",
        "collapsed": true
      },
      "execution_count": null,
      "outputs": [
        {
          "output_type": "execute_result",
          "data": {
            "text/plain": [
              "3.6666"
            ]
          },
          "metadata": {},
          "execution_count": 30
        }
      ]
    },
    {
      "cell_type": "code",
      "source": [],
      "metadata": {
        "colab": {
          "base_uri": "https://localhost:8080/"
        },
        "id": "V-Kwt0i8A55k",
        "outputId": "c68ba671-12ad-4dcc-e4a3-2349cdf95b68",
        "collapsed": true
      },
      "execution_count": null,
      "outputs": [
        {
          "output_type": "stream",
          "name": "stdout",
          "text": [
            "Hello, I am Bob. I am twelve years old. I got 3.6666 in my school\n"
          ]
        }
      ]
    },
    {
      "cell_type": "markdown",
      "source": [
        "### Using Class:\n",
        "Lets do the exact same problem in the beginning by use of class"
      ],
      "metadata": {
        "id": "M4uMo3aSVzDw"
      }
    },
    {
      "cell_type": "code",
      "source": [
        "class Information:\n",
        "  ..."
      ],
      "metadata": {
        "id": "2kO3mi4eT7dq"
      },
      "execution_count": null,
      "outputs": []
    },
    {
      "cell_type": "code",
      "source": [
        "def get_info_class():\n",
        "  info = Information()                #Object instantiation\n",
        "  info.name = input(\"Name:\")\n",
        "  info.roll = input(\"Roll:\")\n",
        "  return info"
      ],
      "metadata": {
        "id": "KMD0EzcdVqXJ"
      },
      "execution_count": null,
      "outputs": []
    },
    {
      "cell_type": "markdown",
      "source": [
        "Here name and roll are attribute."
      ],
      "metadata": {
        "id": "X_CEZwOaXAKd"
      }
    },
    {
      "cell_type": "code",
      "source": [
        "information = get_info_class()\n",
        "print(information.name)\n",
        "print(information.roll)"
      ],
      "metadata": {
        "colab": {
          "base_uri": "https://localhost:8080/"
        },
        "collapsed": true,
        "id": "qpuHl1mXWGWG",
        "outputId": "1bd7d2d4-b8e2-4612-dc99-80d333077398"
      },
      "execution_count": null,
      "outputs": [
        {
          "output_type": "stream",
          "name": "stdout",
          "text": [
            "Name:psp\n",
            "Roll:0\n",
            "psp\n",
            "0\n"
          ]
        }
      ]
    },
    {
      "cell_type": "markdown",
      "source": [
        "## OOP Concepts:\n",
        "\n",
        "1. Encapsulation\n",
        "2. Inheritance\n",
        "3. Abstraction\n",
        "4. Polymorphism\n"
      ],
      "metadata": {
        "id": "ea5I2d6JcOYu"
      }
    },
    {
      "cell_type": "markdown",
      "source": [
        "## Encapsulation:\n",
        "\n",
        "Encapsulation is the bundling of data (attributes) and methods (functions) that operate on the data into a single unit or class. It restricts direct access to some components, which can help prevent unintended interference and misuse."
      ],
      "metadata": {
        "id": "_hyzez7NfmF2"
      }
    },
    {
      "cell_type": "code",
      "source": [
        "class Person:\n",
        "    def __init__(self, name, age):\n",
        "        self.name = name\n",
        "        self.__age = age          # Private attribute (Encapsulated)\n",
        "\n",
        "    # Public method to access private attribute\n",
        "    def get_age(self):\n",
        "        return self.__age\n",
        "\n",
        "    # Public method to modify private attribute\n",
        "    def set_age(self, new_age):\n",
        "        if new_age > 0:\n",
        "            self.__age = new_age\n",
        "        else:\n",
        "            print(\"Age must be positive!\")\n"
      ],
      "metadata": {
        "id": "eUtwIp5SfwUn"
      },
      "execution_count": null,
      "outputs": []
    },
    {
      "cell_type": "code",
      "source": [
        "# Creating an object of the class\n",
        "person1 = Person(\"Alice\", 30)"
      ],
      "metadata": {
        "id": "VPW_1Yi_gEhj"
      },
      "execution_count": null,
      "outputs": []
    },
    {
      "cell_type": "code",
      "source": [
        "# Accessing public attribute\n",
        "print(person1.name)"
      ],
      "metadata": {
        "colab": {
          "base_uri": "https://localhost:8080/"
        },
        "id": "9kVohalRgHFM",
        "outputId": "f7fe45b9-347a-4d8e-f2b4-c11c7b3c4967"
      },
      "execution_count": null,
      "outputs": [
        {
          "output_type": "stream",
          "name": "stdout",
          "text": [
            "Alice\n"
          ]
        }
      ]
    },
    {
      "cell_type": "code",
      "source": [
        "# Accessing private attribute through getter method\n",
        "print(person1.get_age())"
      ],
      "metadata": {
        "colab": {
          "base_uri": "https://localhost:8080/"
        },
        "id": "jNwDQsfTgKXp",
        "outputId": "caf1c142-ba5c-45dd-c1e9-2dfd2411b1d6"
      },
      "execution_count": null,
      "outputs": [
        {
          "output_type": "stream",
          "name": "stdout",
          "text": [
            "30\n"
          ]
        }
      ]
    },
    {
      "cell_type": "code",
      "source": [
        "# Trying to modify private attribute directly (will not work)\n",
        "person1.__age = 35\n",
        "print(person1.get_age())"
      ],
      "metadata": {
        "colab": {
          "base_uri": "https://localhost:8080/"
        },
        "id": "F6ynlhsfgO_g",
        "outputId": "ee48db69-7bec-409f-d060-7b1619981b44"
      },
      "execution_count": null,
      "outputs": [
        {
          "output_type": "stream",
          "name": "stdout",
          "text": [
            "30\n"
          ]
        }
      ]
    },
    {
      "cell_type": "markdown",
      "source": [
        "## Inheritance:\n",
        "\n",
        "Inheritance is the mechanism by which one class (child or subclass) can inherit attributes and methods from another class (parent or superclass). It promotes code reusability.\n"
      ],
      "metadata": {
        "id": "2yabRHE-dEPr"
      }
    },
    {
      "cell_type": "code",
      "source": [
        "# Parent class (or Base class)\n",
        "class Animal:\n",
        "    def __init__(self, name):\n",
        "        self.name = name  # Attribute for the animal's name\n",
        "\n",
        "    # Method to describe what the animal says\n",
        "    def speak(self):\n",
        "        print(f\"{self.name} makes a sound.\")\n",
        "\n",
        "# Child class (or Derived class) that inherits from the Animal class\n",
        "class Dog(Animal):\n",
        "\n",
        "    # Dog has its own method, but also inherits the methods from Animal\n",
        "    def speak(self):\n",
        "        print(f\"{self.name} barks.\")\n",
        "\n",
        "# Another Child class that inherits from the Animal class\n",
        "class Cat(Animal):\n",
        "\n",
        "    # Cat also has its own method\n",
        "    def speak(self):\n",
        "        print(f\"{self.name} meows.\")"
      ],
      "metadata": {
        "id": "wGvlIQx7dDf5"
      },
      "execution_count": null,
      "outputs": []
    },
    {
      "cell_type": "code",
      "source": [
        "# Creating objects of each class\n",
        "dog1 = Dog(\"German_Shepherd\")\n",
        "cat1 = Cat(\"Walter_cat\")"
      ],
      "metadata": {
        "id": "CkQ-vcjedTmc"
      },
      "execution_count": null,
      "outputs": []
    },
    {
      "cell_type": "code",
      "source": [
        "# Calling the speak method for each object\n",
        "dog1.speak()\n",
        "cat1.speak()"
      ],
      "metadata": {
        "colab": {
          "base_uri": "https://localhost:8080/"
        },
        "id": "5LFME6cJde1y",
        "outputId": "f9d9ffc0-d563-4a62-c18e-3dbf826f26f1"
      },
      "execution_count": null,
      "outputs": [
        {
          "output_type": "stream",
          "name": "stdout",
          "text": [
            "German_Shepherd barks.\n",
            "Walter_cat meows.\n"
          ]
        }
      ]
    },
    {
      "cell_type": "markdown",
      "source": [
        "## Abstraction:\n",
        "Abstraction in OOP is the concept of hiding the internal implementation details and showing only the necessary functionality to the user.\n",
        "\n",
        "It focuses on what an object does instead of how it does it. In Python, abstraction is often achieved through abstract classes and methods."
      ],
      "metadata": {
        "id": "-iw6YYvjgion"
      }
    },
    {
      "cell_type": "code",
      "source": [
        "from abc import ABC, abstractmethod\n",
        "\n",
        "# Abstract class\n",
        "class Animal(ABC):\n",
        "    @abstractmethod\n",
        "    def sound(self):\n",
        "        pass\n",
        "\n",
        "# Subclass 1\n",
        "class Dog(Animal):\n",
        "    def sound(self):\n",
        "        return \"Barking\"\n",
        "\n",
        "# Subclass 2\n",
        "class Cat(Animal):\n",
        "    def sound(self):\n",
        "        return \"Meowing\""
      ],
      "metadata": {
        "id": "WeHAdYssgwCf"
      },
      "execution_count": null,
      "outputs": []
    },
    {
      "cell_type": "code",
      "source": [
        "dog = Dog()\n",
        "cat = Cat()"
      ],
      "metadata": {
        "id": "EcPTgRBYgx-G"
      },
      "execution_count": null,
      "outputs": []
    },
    {
      "cell_type": "code",
      "source": [
        "print(dog.sound())\n",
        "print(cat.sound())"
      ],
      "metadata": {
        "colab": {
          "base_uri": "https://localhost:8080/"
        },
        "id": "wwwySlNyg0B-",
        "outputId": "99270edf-415e-4e7c-ef5a-228a00fecd9f"
      },
      "execution_count": null,
      "outputs": [
        {
          "output_type": "stream",
          "name": "stdout",
          "text": [
            "Barking\n",
            "Meowing\n"
          ]
        }
      ]
    },
    {
      "cell_type": "markdown",
      "source": [
        "**Explanation**:\n",
        "\n",
        "\n",
        "\n",
        "\n",
        "1. Animal is an abstract class\n",
        "  - sound() method is abstract (not implemented)\n",
        "\n",
        "2. Dog and Cat subclass inherit from abstract class and provide their own implementation\n",
        "\n",
        "3. `@abstractmethod` is a decorator, forces subclass to implement this method\n"
      ],
      "metadata": {
        "id": "M9hQ5_xjg4fc"
      }
    },
    {
      "cell_type": "markdown",
      "source": [
        "## Polymorphism:\n",
        "\n",
        "Polymorphism allows methods to do different things based on the object that it is acting upon. It enables objects of different classes to be treated as objects of a common superclass.\n",
        "\n",
        "Polymorphism allows methods in different classes to share the same name, even if their behavior differs.\n",
        "\n",
        "https://www.toppr.com/guides/python-guide/tutorials/python-oops/polymorphism-in-python-with-examples/"
      ],
      "metadata": {
        "id": "K7FXwvEQdnOp"
      }
    },
    {
      "cell_type": "code",
      "source": [
        "class Car:\n",
        "    def fuel(self):\n",
        "        return \"Petrol\"\n",
        "\n",
        "class ElectricCar:\n",
        "    def fuel(self):\n",
        "        return \"Electricity\"\n",
        "\n",
        "# Function that demonstrates polymorphism\n",
        "def show_fuel(vehicle):\n",
        "    print(f\"Fuel type: {vehicle.fuel()}\")"
      ],
      "metadata": {
        "id": "HWzEFBd7diUm"
      },
      "execution_count": null,
      "outputs": []
    },
    {
      "cell_type": "code",
      "source": [
        "car = Car()\n",
        "electric_car = ElectricCar()"
      ],
      "metadata": {
        "id": "6JD2z_GPhtN3"
      },
      "execution_count": null,
      "outputs": []
    },
    {
      "cell_type": "code",
      "source": [
        "show_fuel(car)\n",
        "show_fuel(electric_car)"
      ],
      "metadata": {
        "colab": {
          "base_uri": "https://localhost:8080/"
        },
        "id": "XF66TV1yhu6G",
        "outputId": "9603bcf2-ad2e-4c1e-837b-a43165ebe6f8"
      },
      "execution_count": null,
      "outputs": [
        {
          "output_type": "stream",
          "name": "stdout",
          "text": [
            "Fuel type: Petrol\n",
            "Fuel type: Electricity\n"
          ]
        }
      ]
    },
    {
      "cell_type": "markdown",
      "source": [
        "**Explanation**:\n",
        "\n",
        "The show_fuel() function calls fuel() method.\n",
        "\n",
        "Both class has fuel() method implemented.\n",
        "\n",
        "The same function show_fuel() can work with objects of different types (car or electric car type). This shows polymorphism."
      ],
      "metadata": {
        "id": "DuZGz2zzh2Zg"
      }
    },
    {
      "cell_type": "markdown",
      "source": [
        "## Assignment 2:\n",
        "Explore other types of Polymorphism."
      ],
      "metadata": {
        "id": "SoSJMeguGPI9"
      }
    },
    {
      "cell_type": "code",
      "source": [],
      "metadata": {
        "id": "OPI735-UiKme"
      },
      "execution_count": null,
      "outputs": []
    }
  ]
}