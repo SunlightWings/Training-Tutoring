{
  "nbformat": 4,
  "nbformat_minor": 0,
  "metadata": {
    "colab": {
      "provenance": []
    },
    "kernelspec": {
      "name": "python3",
      "display_name": "Python 3"
    },
    "language_info": {
      "name": "python"
    }
  },
  "cells": [
    {
      "cell_type": "markdown",
      "source": [
        "# Day 1"
      ],
      "metadata": {
        "id": "-Cmk9ckPPdZg"
      }
    },
    {
      "cell_type": "markdown",
      "source": [
        "## Use and Installation:\n",
        "\n",
        "1. Online compilers: https://replit.com/languages/python3\n",
        "\n",
        "2. Local: On your machine, Offline Coding\n"
      ],
      "metadata": {
        "id": "XKjHbCKjuv04"
      }
    },
    {
      "cell_type": "markdown",
      "source": [
        "* Windows:\n",
        "1. Download from official Python website. [https://www.python.org/]\n",
        "2. Run the installer\n",
        "3. Click install launcher.\n",
        "\n",
        "<center>\n",
        "\n",
        "<img src=\"https://drive.google.com/uc?export=view&id=1hdH-JtpSiZM6ubuMZZjJXiPIEhs0Ipil\" alt=\"This figure contains installation process on windows\" height=\"500\" width=\"800\">\n",
        "\n",
        "Fig: Windows Installation\n",
        "\n",
        "</center>\n",
        "\n",
        "\\\\\n",
        "\n",
        "* Linux: Built in Python3\n",
        "\n",
        "[show via terminal]\n",
        "\n",
        "\\\\\n",
        "\n",
        "* Mac OSx:\n",
        "1. Go to https://www.python.org/downloads/ and download latest version for macOS\n",
        "2. Download installer package to launch\n"
      ],
      "metadata": {
        "id": "jIBBSc4nvidq"
      }
    },
    {
      "cell_type": "markdown",
      "source": [
        "### VS Code Installation:\n",
        "\n",
        "1. Go to code.visualstudio.com (blue, not the purple)\n",
        "\n",
        "2. Download for your OS, and run the installation.\n",
        "\n",
        "3. Open VScode and go to \"extension\" then install Python(microsoft), Coderunner,etc.."
      ],
      "metadata": {
        "id": "G-dwmkWjDhRN"
      }
    },
    {
      "cell_type": "markdown",
      "source": [
        "### Anaconda Installation:\n",
        "\n",
        "1. Go to https://www.anaconda.com/download/success and download\n",
        "\n",
        "2. Click and run through the installer\n",
        "\n",
        "3. Pull terminal:\n",
        "  - run \"python\" and import numpy..\n",
        "  - \"conda --help\"\n",
        "  - \"conda list\"\n",
        "  - \"conda create --name (venv) numpy\" for venv creation  \n",
        "  - \"activate seg\" on windows\n",
        "  -\"deactivate\" on windows, \"source deactivate\" on mac\n",
        "  -\"conda env list\"\n",
        "  -\"conda remove --name seg --all\""
      ],
      "metadata": {
        "id": "Epm_r7wwFKmL"
      }
    },
    {
      "cell_type": "markdown",
      "source": [
        "## Programming and Compilation:\n",
        "\n",
        "https://www.cs.uah.edu/~rcoleman/CS121/ClassTopics/ProgrammingLanguages.html\n",
        "\n",
        "\n",
        "1. Binary: 1 and 0s\n",
        "\n",
        "2. Assembly--------> Assembler-------> Binary\n",
        "\n",
        "3. High level-------> Compiler------> Object code------> Linker-------Binary\n",
        "\n",
        "\\\n",
        "  * Object code: Single compiled unit. Different from byte code (machine independent)\n",
        "\n",
        "\n",
        "  * Binary code: CPU can directly execute\n",
        "  \n",
        "  * Python has interpreter not compiler (errors are caught at runtime)\n",
        "  "
      ],
      "metadata": {
        "id": "x_agYyV7yiWY"
      }
    },
    {
      "cell_type": "markdown",
      "source": [
        "# Function:\n",
        "\n",
        "Arguments----->Function-----> Return value\n",
        "\n",
        "2 kinds:\n",
        "1. Built in : print\n",
        "2. User defined: any\n",
        "\n",
        "**Q. What if we used MS word as text editor for our code?**\n",
        "\n",
        "\\\n",
        "\n",
        "[demo VS code: A text editor like notepad.]\n",
        "\n",
        "\n",
        "1. code hello.py:\n",
        "  - run via CLI (python hello.py)\n",
        "  - bugs: syntax error\n",
        "\n",
        "2. code sum.py (with and without user defined function)\n",
        "\n",
        "3. Introduce \"pass\" keyword in function: placeholder for future code.\n",
        "\n",
        "4. Introduce sum variable(container for values) before returning:\n",
        "\n",
        "**Q: Is the sum local or global variable?**\n",
        "\n",
        "  Variables: https://github.com/Akuli/python-tutorial/blob/master/basics/variables.md\n",
        "\n",
        "5. Introduce comments, pseudocode, Ipython mode\n",
        "\n",
        "6. Escape character and Formatting.\n",
        "\n",
        "6. code parse.py to take arguments via CLI"
      ],
      "metadata": {
        "id": "auP99cbo4LEq"
      }
    },
    {
      "cell_type": "code",
      "source": [
        "# User defined function with variable:\n",
        "\n",
        "def sub(a,b):\n",
        "    answer = a-b\n",
        "    return answer\n",
        "\n",
        "answer= sub(5,2)\n",
        "print(answer)"
      ],
      "metadata": {
        "colab": {
          "base_uri": "https://localhost:8080/"
        },
        "id": "l-jk9PzPK4rg",
        "outputId": "09036b0a-6631-4bf9-b021-69a879336dca"
      },
      "execution_count": 1,
      "outputs": [
        {
          "output_type": "stream",
          "name": "stdout",
          "text": [
            "3\n"
          ]
        }
      ]
    },
    {
      "cell_type": "code",
      "source": [
        "# Formatting:\n",
        "\n",
        "def sub(a,b):\n",
        "    answer = a-b\n",
        "    return answer\n",
        "\n",
        "answer= sub(5,2)\n",
        "print(f\"The answer is: {answer}\")\n"
      ],
      "metadata": {
        "colab": {
          "base_uri": "https://localhost:8080/"
        },
        "id": "OVnIMTLALCkb",
        "outputId": "9c9e324c-35f3-4238-f76b-40a0d057d75a"
      },
      "execution_count": 2,
      "outputs": [
        {
          "output_type": "stream",
          "name": "stdout",
          "text": [
            "The answer is: 3\n"
          ]
        }
      ]
    },
    {
      "cell_type": "code",
      "source": [
        "# # Arguments via CLI (Try on Vs Code)\n",
        "\n",
        "# import argparse\n",
        "\n",
        "# def main(a, b):\n",
        "#     answer = a - b\n",
        "#     return answer\n",
        "\n",
        "# if __name__ == \"__main__\":\n",
        "#     parser = argparse.ArgumentParser(description=\"Subtract two numbers.\")\n",
        "#     parser.add_argument(\"a\", type=int, help=\"First number\")\n",
        "#     parser.add_argument(\"b\", type=int, help=\"Second number\")\n",
        "\n",
        "#     args = parser.parse_args()\n",
        "#     result = main(args.a, args.b)\n",
        "#     print(f\"Result: {result}\")\n"
      ],
      "metadata": {
        "id": "UXx4XtFVLIiF"
      },
      "execution_count": 4,
      "outputs": []
    },
    {
      "cell_type": "markdown",
      "source": [
        "### Assignment 1:\n",
        "\n",
        "* Create a file calculator.py in your current working directory (on Vs Code)\n",
        "* Make a simple calculator to add,sub,mult,divide.\n",
        "* Ask for 3 arguments: a,b and operator."
      ],
      "metadata": {
        "id": "5NZbtTJdE7ks"
      }
    },
    {
      "cell_type": "code",
      "source": [
        "## Calculator program:\n"
      ],
      "metadata": {
        "id": "Stq4LKxlLQw-"
      },
      "execution_count": null,
      "outputs": []
    },
    {
      "cell_type": "markdown",
      "source": [
        "## Conditionals:\n",
        "\n",
        "These decides the Control flow of the program, based on a condition."
      ],
      "metadata": {
        "id": "3VagFrq3N6Yk"
      }
    },
    {
      "cell_type": "markdown",
      "source": [
        "1. if-elif-else:"
      ],
      "metadata": {
        "id": "jx2vBlcQN9ad"
      }
    },
    {
      "cell_type": "code",
      "source": [
        "def check_fruit_if_elif(fruit):\n",
        "    \"\"\"Using if-elif-else structure.\"\"\"\n",
        "    if fruit == \"apple\":\n",
        "        print(\"This is an apple.\")\n",
        "    elif fruit == \"banana\":\n",
        "        print(\"This is a banana.\")\n",
        "    elif fruit == \"orange\":\n",
        "        print(\"This is an orange.\")\n",
        "    else:\n",
        "        print(\"Unknown fruit.\")"
      ],
      "metadata": {
        "id": "QY1E7SSsOAbe"
      },
      "execution_count": 5,
      "outputs": []
    },
    {
      "cell_type": "markdown",
      "source": [
        "2. if-if:"
      ],
      "metadata": {
        "id": "5LCnUu2nOClk"
      }
    },
    {
      "cell_type": "code",
      "source": [
        "def check_fruit_if_if(fruit):\n",
        "    \"\"\"Using multiple if statements.\"\"\"\n",
        "    if fruit == \"apple\":\n",
        "        print(\"This is an apple.\")\n",
        "    if fruit == \"banana\":\n",
        "        print(\"This is a banana.\")\n",
        "    if fruit == \"orange\":\n",
        "        print(\"This is an orange.\")\n",
        "    if fruit not in [\"apple\", \"banana\", \"orange\"]:\n",
        "        print(\"Unknown fruit.\")\n"
      ],
      "metadata": {
        "id": "Yga2Go1hOEcb"
      },
      "execution_count": 6,
      "outputs": []
    },
    {
      "cell_type": "markdown",
      "source": [
        "Calling both functions and timing them:"
      ],
      "metadata": {
        "id": "3SaD4aJyOGdr"
      }
    },
    {
      "cell_type": "code",
      "source": [
        "# Taking the same input for both approaches\n",
        "user_input = input(\"Enter a fruit name (apple, banana, orange): \").lower()"
      ],
      "metadata": {
        "colab": {
          "base_uri": "https://localhost:8080/"
        },
        "id": "LHfB84xfOIXP",
        "outputId": "1588dc2b-963d-44bb-b7c2-475bad36dba1"
      },
      "execution_count": 7,
      "outputs": [
        {
          "name": "stdout",
          "output_type": "stream",
          "text": [
            "Enter a fruit name (apple, banana, orange): apple\n"
          ]
        }
      ]
    },
    {
      "cell_type": "code",
      "source": [
        "import time"
      ],
      "metadata": {
        "id": "douXRX2rOKMg"
      },
      "execution_count": 8,
      "outputs": []
    },
    {
      "cell_type": "code",
      "source": [
        "# Timing the if-elif-else code\n",
        "start_time_elif = time.time()\n",
        "check_fruit_if_elif(user_input)\n",
        "end_time_elif = time.time()\n",
        "\n",
        "print(end_time_elif-start_time_elif)"
      ],
      "metadata": {
        "colab": {
          "base_uri": "https://localhost:8080/"
        },
        "id": "7BlVAYFJOLkr",
        "outputId": "a6a7a6e4-9010-4c60-99e4-795e32d10e76"
      },
      "execution_count": 9,
      "outputs": [
        {
          "output_type": "stream",
          "name": "stdout",
          "text": [
            "This is an apple.\n",
            "0.0011677742004394531\n"
          ]
        }
      ]
    },
    {
      "cell_type": "code",
      "source": [
        "# Timing the if-if code\n",
        "start_time_if = time.time()\n",
        "check_fruit_if_if(user_input)\n",
        "end_time_if = time.time()\n",
        "\n",
        "print(end_time_if-start_time_if)"
      ],
      "metadata": {
        "colab": {
          "base_uri": "https://localhost:8080/"
        },
        "id": "jCRrfgIbOM-H",
        "outputId": "82bb258d-ff5e-4c00-d04e-0f134d35d9e3"
      },
      "execution_count": 10,
      "outputs": [
        {
          "output_type": "stream",
          "name": "stdout",
          "text": [
            "This is an apple.\n",
            "0.004733562469482422\n"
          ]
        }
      ]
    },
    {
      "cell_type": "markdown",
      "source": [
        "Lets check if the year is leap year or not by importing calendar. In the assignment section that follows, you have to write code using if-else to check if the year is leap year."
      ],
      "metadata": {
        "id": "O8MBerLJPd3c"
      }
    },
    {
      "cell_type": "code",
      "source": [
        "import calendar\n",
        "\n",
        "def is_leap_year_calendar(year):\n",
        "    return calendar.isleap(year)\n",
        "\n",
        "year_to_check = 2024\n",
        "result_calendar = is_leap_year_calendar(year_to_check)\n",
        "print(f\"{year_to_check} is a leap year: {result_calendar}\")"
      ],
      "metadata": {
        "colab": {
          "base_uri": "https://localhost:8080/"
        },
        "id": "dcwnOjhLPZb8",
        "outputId": "02b39bdb-93db-47dd-f5ea-1acd937a0065"
      },
      "execution_count": 12,
      "outputs": [
        {
          "output_type": "stream",
          "name": "stdout",
          "text": [
            "2024 is a leap year: True\n"
          ]
        }
      ]
    },
    {
      "cell_type": "markdown",
      "source": [
        "### Assignment 2:\n",
        "\n",
        "Write a program to check if the year (given by the user) is leap year or not.\n",
        "\n",
        "Hints:\n",
        "1. A year is a leap year if its divisible by 4\n",
        "2. If the year is divisible by 100, thats not a leap year, unless it's also divisible by 400.\n"
      ],
      "metadata": {
        "id": "lJwpdpvIPB6O"
      }
    },
    {
      "cell_type": "code",
      "source": [
        "## Leap year code here:\n"
      ],
      "metadata": {
        "id": "8CURXrr1PaEj"
      },
      "execution_count": 14,
      "outputs": []
    }
  ]
}