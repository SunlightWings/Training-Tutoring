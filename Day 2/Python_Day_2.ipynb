{
  "nbformat": 4,
  "nbformat_minor": 0,
  "metadata": {
    "colab": {
      "provenance": []
    },
    "kernelspec": {
      "name": "python3",
      "display_name": "Python 3"
    },
    "language_info": {
      "name": "python"
    }
  },
  "cells": [
    {
      "cell_type": "markdown",
      "source": [
        "## Loops:\n",
        "\n",
        "Repeating something multiple times.\n",
        "\n",
        "https://github.com/Akuli/python-tutorial/blob/master/basics/loops.md#while-loops"
      ],
      "metadata": {
        "id": "gus4zLaqMBhv"
      }
    },
    {
      "cell_type": "markdown",
      "source": [
        "1. While Loop:  To print from 5 to 1"
      ],
      "metadata": {
        "id": "mf-4AYDjMDtR"
      }
    },
    {
      "cell_type": "code",
      "source": [
        "count = 5\n",
        "print(\"While Loop: (Decrement from 5 to 1)\")\n",
        "while count > 0:\n",
        "    print(f\"Count is: {count}\")\n",
        "    count -= 1  # Decrement"
      ],
      "metadata": {
        "colab": {
          "base_uri": "https://localhost:8080/"
        },
        "id": "QEo_oJ3xMGj3",
        "outputId": "57fcad40-510d-4056-ce47-295fd0969969"
      },
      "execution_count": 1,
      "outputs": [
        {
          "output_type": "stream",
          "name": "stdout",
          "text": [
            "While Loop: (Decrement from 5 to 1)\n",
            "Count is: 5\n",
            "Count is: 4\n",
            "Count is: 3\n",
            "Count is: 2\n",
            "Count is: 1\n"
          ]
        }
      ]
    },
    {
      "cell_type": "markdown",
      "source": [
        "2. For Loop:  To print elements in a list = [2,4,6,8,10]\n"
      ],
      "metadata": {
        "id": "7X42a04vMJuN"
      }
    },
    {
      "cell_type": "code",
      "source": [
        "mylist = [1,2,3,4,5]\n",
        "for i in mylist:\n",
        "  print(i)"
      ],
      "metadata": {
        "colab": {
          "base_uri": "https://localhost:8080/"
        },
        "id": "yTOLte8BMMpa",
        "outputId": "09691620-eee0-491f-c298-dbbfb1da18e4"
      },
      "execution_count": 2,
      "outputs": [
        {
          "output_type": "stream",
          "name": "stdout",
          "text": [
            "1\n",
            "2\n",
            "3\n",
            "4\n",
            "5\n"
          ]
        }
      ]
    },
    {
      "cell_type": "markdown",
      "source": [
        "3. Until Loop:  Print numbers until you reach a limit (say 3)\n"
      ],
      "metadata": {
        "id": "GCuT5cCKMO1n"
      }
    },
    {
      "cell_type": "code",
      "source": [
        "def until_loop_demo():\n",
        "    count = 0\n",
        "    print(\"\\nUntil Loop: (Increment from 0 until we reach 3)\")\n",
        "    while not count > 3:  # Continue until count reaches 3\n",
        "        print(f\"Count is: {count}\")\n",
        "        count += 1  # Increment"
      ],
      "metadata": {
        "id": "MVF7R9A6MJXV"
      },
      "execution_count": 3,
      "outputs": []
    },
    {
      "cell_type": "code",
      "source": [
        "until_loop_demo()"
      ],
      "metadata": {
        "colab": {
          "base_uri": "https://localhost:8080/"
        },
        "id": "fRAo0exbMTzA",
        "outputId": "94cbbc89-7d6b-4b63-ec45-7d9d52ec445b"
      },
      "execution_count": 4,
      "outputs": [
        {
          "output_type": "stream",
          "name": "stdout",
          "text": [
            "\n",
            "Until Loop: (Increment from 0 until we reach 3)\n",
            "Count is: 0\n",
            "Count is: 1\n",
            "Count is: 2\n",
            "Count is: 3\n"
          ]
        }
      ]
    },
    {
      "cell_type": "markdown",
      "source": [
        "### Assignment 1: Guessing Game:\n",
        "\n",
        "* Create a numbers guessing game using loops\n",
        "* Print too high or too low if user guesses incorrectly.\n",
        "\n",
        "**Q. Whats the best way to play the game to maximize winning chance?**"
      ],
      "metadata": {
        "id": "qKFa6HjPMVMT"
      }
    },
    {
      "cell_type": "code",
      "source": [
        "## Code for Guessing game:\n"
      ],
      "metadata": {
        "id": "kj63_DGXMXm2"
      },
      "execution_count": 19,
      "outputs": []
    },
    {
      "cell_type": "markdown",
      "source": [
        "## Data Structures:\n"
      ],
      "metadata": {
        "id": "P-TVA8rFMiIl"
      }
    },
    {
      "cell_type": "markdown",
      "source": [
        "1. List:"
      ],
      "metadata": {
        "id": "uKjF2QOZMlAR"
      }
    },
    {
      "cell_type": "code",
      "source": [
        "my_list = [1, 2, 3, 4, 5, 5]\n",
        "print(\"List: (Mutable, Allows duplicates)\")\n",
        "print(\"Original List:\", my_list)"
      ],
      "metadata": {
        "colab": {
          "base_uri": "https://localhost:8080/"
        },
        "id": "zEmJgc3jMmnM",
        "outputId": "11bfc002-8075-4990-ec71-af50a12a4f52"
      },
      "execution_count": 6,
      "outputs": [
        {
          "output_type": "stream",
          "name": "stdout",
          "text": [
            "List: (Mutable, Allows duplicates)\n",
            "Original List: [1, 2, 3, 4, 5, 5]\n"
          ]
        }
      ]
    },
    {
      "cell_type": "code",
      "source": [
        "my_list[2] = 10\n",
        "print(\"Modified List (3rd element set to 10):\", my_list)"
      ],
      "metadata": {
        "colab": {
          "base_uri": "https://localhost:8080/"
        },
        "id": "F2xSlBTtMoaB",
        "outputId": "885787ba-3f50-418c-97dd-677afcbefccb"
      },
      "execution_count": 7,
      "outputs": [
        {
          "output_type": "stream",
          "name": "stdout",
          "text": [
            "Modified List (3rd element set to 10): [1, 2, 10, 4, 5, 5]\n"
          ]
        }
      ]
    },
    {
      "cell_type": "markdown",
      "source": [
        "2. Tuple:"
      ],
      "metadata": {
        "id": "NYTN-4SfMqZD"
      }
    },
    {
      "cell_type": "code",
      "source": [
        "my_tuple = (1, 2, 3, 4, 5, 5)\n",
        "print(\"\\nTuple: (Ordered, Immutable, Allows duplicates)\")\n",
        "print(\"Original Tuple:\", my_tuple)"
      ],
      "metadata": {
        "colab": {
          "base_uri": "https://localhost:8080/"
        },
        "id": "hwPPhqSNMukt",
        "outputId": "a88d1985-bb62-42b5-f243-beae59bdae33"
      },
      "execution_count": 8,
      "outputs": [
        {
          "output_type": "stream",
          "name": "stdout",
          "text": [
            "\n",
            "Tuple: (Ordered, Immutable, Allows duplicates)\n",
            "Original Tuple: (1, 2, 3, 4, 5, 5)\n"
          ]
        }
      ]
    },
    {
      "cell_type": "code",
      "source": [
        "# Trying to modify a tuple will raise an error (Uncomment the next line to see the error)\n",
        "# my_tuple[2] = 10\n"
      ],
      "metadata": {
        "id": "zfzdWrAnMwkn"
      },
      "execution_count": 9,
      "outputs": []
    },
    {
      "cell_type": "markdown",
      "source": [
        "3. Set:\n"
      ],
      "metadata": {
        "id": "D_owXBVdMyhd"
      }
    },
    {
      "cell_type": "code",
      "source": [
        "# Set: Unordered, mutable, does not allow duplicate elements\n",
        "my_set = {1, 2, 3, 4, 5, 5}  # Duplicates are automatically removed\n",
        "print(\"\\nSet: (Unordered, Mutable, No duplicates)\")\n",
        "print(\"Original Set (duplicates removed):\", my_set)"
      ],
      "metadata": {
        "colab": {
          "base_uri": "https://localhost:8080/"
        },
        "id": "E-Fpr9wmM0E4",
        "outputId": "16b4cf67-ad71-4982-c11b-864d08eae513"
      },
      "execution_count": 10,
      "outputs": [
        {
          "output_type": "stream",
          "name": "stdout",
          "text": [
            "\n",
            "Set: (Unordered, Mutable, No duplicates)\n",
            "Original Set (duplicates removed): {1, 2, 3, 4, 5}\n"
          ]
        }
      ]
    },
    {
      "cell_type": "code",
      "source": [
        "# Adding an element to the set\n",
        "my_set.add(6)\n",
        "print(\"Modified Set (Added 6):\", my_set)"
      ],
      "metadata": {
        "colab": {
          "base_uri": "https://localhost:8080/"
        },
        "id": "BEFE-UkkM1uf",
        "outputId": "94552627-5eb2-4a8a-d460-0a0971d59cb7"
      },
      "execution_count": 11,
      "outputs": [
        {
          "output_type": "stream",
          "name": "stdout",
          "text": [
            "Modified Set (Added 6): {1, 2, 3, 4, 5, 6}\n"
          ]
        }
      ]
    },
    {
      "cell_type": "markdown",
      "source": [
        "4. Dictionary:"
      ],
      "metadata": {
        "id": "atWd5-A3M3TB"
      }
    },
    {
      "cell_type": "code",
      "source": [
        "# Dictionary: Key-Value pairs, unordered (until Python 3.7 where it's insertion-ordered), mutable\n",
        "my_dict = {'name': 'Alice', 'age': 25, 'city': 'New York'}\n",
        "print(\"\\nDictionary: (Key-Value pairs, Mutable, Ordered as of Python 3.7)\")\n",
        "print(\"Original Dictionary:\", my_dict)"
      ],
      "metadata": {
        "colab": {
          "base_uri": "https://localhost:8080/"
        },
        "id": "r9g_tzVFM4sH",
        "outputId": "15f31c31-aae3-4a20-d604-b3e3e648451c"
      },
      "execution_count": 12,
      "outputs": [
        {
          "output_type": "stream",
          "name": "stdout",
          "text": [
            "\n",
            "Dictionary: (Key-Value pairs, Mutable, Ordered as of Python 3.7)\n",
            "Original Dictionary: {'name': 'Alice', 'age': 25, 'city': 'New York'}\n"
          ]
        }
      ]
    },
    {
      "cell_type": "code",
      "source": [
        "# Modifying dictionary\n",
        "my_dict['age'] = 26  # Updating value for the key 'age'\n",
        "print(\"Modified Dictionary (Updated age to 26):\", my_dict)"
      ],
      "metadata": {
        "colab": {
          "base_uri": "https://localhost:8080/"
        },
        "id": "Gv885b9RM6pi",
        "outputId": "c3ec602e-f1ae-464f-debe-731e399f59d5"
      },
      "execution_count": 13,
      "outputs": [
        {
          "output_type": "stream",
          "name": "stdout",
          "text": [
            "Modified Dictionary (Updated age to 26): {'name': 'Alice', 'age': 26, 'city': 'New York'}\n"
          ]
        }
      ]
    },
    {
      "cell_type": "code",
      "source": [
        "# Adding a new key-value pair\n",
        "my_dict['country'] = 'USA'\n",
        "print(\"Modified Dictionary (Added country key):\", my_dict)"
      ],
      "metadata": {
        "colab": {
          "base_uri": "https://localhost:8080/"
        },
        "id": "GMr7l0kwM8Db",
        "outputId": "2f449cd6-fdf2-4468-a872-085c29e5429e"
      },
      "execution_count": 14,
      "outputs": [
        {
          "output_type": "stream",
          "name": "stdout",
          "text": [
            "Modified Dictionary (Added country key): {'name': 'Alice', 'age': 26, 'city': 'New York', 'country': 'USA'}\n"
          ]
        }
      ]
    },
    {
      "cell_type": "markdown",
      "source": [
        "### Assignment 2: Guessing Game (again):\n",
        "\n",
        "Use data structures this time.\n",
        "* Set to keep track of already guessed numbers (remember no duplicates in set)\n",
        "* List to keep track of all the guesses\n",
        "* Dictionary to give hints by just storing if its high or low.\n",
        "* Tuple to create a concrete immutable group of numbers to choose from."
      ],
      "metadata": {
        "id": "yiIj41eZM9kE"
      }
    },
    {
      "cell_type": "code",
      "source": [
        "## Guessing game code here:\n",
        "\n"
      ],
      "metadata": {
        "id": "Mmq6MQscM_y0"
      },
      "execution_count": 20,
      "outputs": []
    },
    {
      "cell_type": "markdown",
      "source": [
        "## FIle handling:\n",
        "\n",
        "1. Text file: reading and writing: (try on Vs code)\n"
      ],
      "metadata": {
        "id": "doAopyPYNEkM"
      }
    },
    {
      "cell_type": "code",
      "source": [
        "# Writing to a text file\n",
        "def write_to_file(filename, text):\n",
        "    with open(filename, 'w') as file:\n",
        "        file.write(text)\n",
        "    print(f\"Text written to {filename}\")\n",
        "\n",
        "# Reading from a text file\n",
        "def read_from_file(filename):\n",
        "    try:\n",
        "        with open(filename, 'r') as file:\n",
        "            content = file.read()\n",
        "        print(f\"Content of {filename}: \\n{content}\")\n",
        "    except FileNotFoundError:\n",
        "        print(f\"{filename} not found.\")\n",
        "\n",
        "# Example usage\n",
        "filename = \"example.txt\"\n",
        "text = \"Hello, this is a sample text file.\\nFile handling in Python is easy!\"\n",
        "write_to_file(filename, text)\n",
        "read_from_file(filename)\n"
      ],
      "metadata": {
        "colab": {
          "base_uri": "https://localhost:8080/"
        },
        "id": "XbT4icCyNGyb",
        "outputId": "946f7c60-1fdc-4a12-e3ee-97acd693e417"
      },
      "execution_count": 16,
      "outputs": [
        {
          "output_type": "stream",
          "name": "stdout",
          "text": [
            "Text written to example.txt\n",
            "Content of example.txt: \n",
            "Hello, this is a sample text file.\n",
            "File handling in Python is easy!\n"
          ]
        }
      ]
    },
    {
      "cell_type": "markdown",
      "source": [
        "## Assignment 3:\n",
        "\n",
        "i. Open an image using `pillow`\n",
        "\n",
        "ii. Open an audio using `pydub`"
      ],
      "metadata": {
        "id": "z05hzdueUgxn"
      }
    },
    {
      "cell_type": "markdown",
      "source": [
        "The code for the image has been written below. Run this on Vs Code:"
      ],
      "metadata": {
        "id": "z8vRTQTfNLu9"
      }
    },
    {
      "cell_type": "code",
      "source": [
        "## Code for loading an Image:\n",
        "\n",
        "\n",
        "# from PIL import Image\n",
        "\n",
        "# # Reading and displaying an image\n",
        "# def read_image(image_path):\n",
        "#     try:\n",
        "#         img = Image.open(image_path)\n",
        "#         img.show()  # Opens the image in the default image viewer\n",
        "#         print(f\"Image loaded successfully from {image_path}\")\n",
        "#     except FileNotFoundError:\n",
        "#         print(f\"Image file {image_path} not found.\")\n",
        "#     except Exception as e:\n",
        "#         print(f\"Error loading image: {e}\")\n",
        "\n",
        "# # Example usage\n",
        "# image_path = \"james.jpeg\"  # Provide the path to the image file\n",
        "# read_image(image_path)"
      ],
      "metadata": {
        "id": "XH83OYDJU4nK"
      },
      "execution_count": 23,
      "outputs": []
    },
    {
      "cell_type": "code",
      "source": [
        "## Code for loading an audio.\n"
      ],
      "metadata": {
        "id": "lRO292UZNNUW"
      },
      "execution_count": 24,
      "outputs": []
    }
  ]
}